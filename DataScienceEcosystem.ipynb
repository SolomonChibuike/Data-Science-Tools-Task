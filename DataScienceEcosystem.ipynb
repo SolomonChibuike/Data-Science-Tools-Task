{
 "cells": [
  {
   "cell_type": "markdown",
   "id": "5109ca99-83b5-4173-8407-be135edb0422",
   "metadata": {},
   "source": [
    "# Data Science Tools and Ecosystem"
   ]
  },
  {
   "cell_type": "markdown",
   "id": "d1fc1415-616d-4aed-89a5-1f9dbc399897",
   "metadata": {},
   "source": [
    "In this notebook, Data Science Tools and Ecosystem are summarized."
   ]
  },
  {
   "cell_type": "markdown",
   "id": "482f4e8a-bc54-41c5-805d-8f7c5864f876",
   "metadata": {},
   "source": [
    "Objectives: \n",
    "* List popular languages for Data Science\n",
    "* List some of the commonly used libraries used by Data Scientists\n",
    "* List some data science tools\n",
    "* Simple arithmetic expression\n",
    "* Time conversion"
   ]
  },
  {
   "cell_type": "markdown",
   "id": "db3a01d6-e7cb-4835-b0bf-f1da575243d2",
   "metadata": {},
   "source": [
    "Some of the popular languages that Data Scientists use are:\n",
    "1. Python\n",
    "2. R\n",
    "3. C++/C#\n",
    "4. SQL\n",
    "5. Java\n",
    "6. Julia\n",
    "7. Scala"
   ]
  },
  {
   "cell_type": "markdown",
   "id": "571b1213-ace0-48b6-82a7-2fd6dc4983b1",
   "metadata": {},
   "source": [
    "Some of the commonly used libraries used by Data Scientists include:\n",
    "\n",
    "1. PyTorch\n",
    "2. Pandas\n",
    "3. NumPy\n",
    "4. Matplotlib\n",
    "5. SciKit-Learn\n",
    "6. Plotly\n",
    "7. Keras\n",
    "8. TensorFlow"
   ]
  },
  {
   "cell_type": "markdown",
   "id": "9b380b26-f509-4152-ba94-69406241c920",
   "metadata": {},
   "source": [
    "|Data Science Tools|\n",
    "-------------------\n",
    "|Jupyter Notebook|\n",
    "|RStudio|\n",
    "|Visual Studio|\n"
   ]
  },
  {
   "cell_type": "markdown",
   "id": "31b406d8-fe57-42df-87d3-7b0b28158d4d",
   "metadata": {},
   "source": [
    "### Below are a few examples of evaluating arithmetic expressions in Python:\n"
   ]
  },
  {
   "cell_type": "code",
   "execution_count": 2,
   "id": "2cabd674-2ac2-43a6-8de5-d9fc0f817a6f",
   "metadata": {},
   "outputs": [
    {
     "data": {
      "text/plain": [
       "17"
      ]
     },
     "execution_count": 2,
     "metadata": {},
     "output_type": "execute_result"
    }
   ],
   "source": [
    "#This a simple arithmetic expression to mutiply then add integers\n",
    "\n",
    "(3*4)+5"
   ]
  },
  {
   "cell_type": "code",
   "execution_count": 4,
   "id": "48ec78e9-0b6a-468e-a88c-2fa7163cae7f",
   "metadata": {},
   "outputs": [
    {
     "name": "stdout",
     "output_type": "stream",
     "text": [
      "200 minutes in hour is: 3.3333333333333335 hours\n"
     ]
    }
   ],
   "source": [
    "# This will convert 200 minutes to hours by diving by 60\n",
    "\n",
    "min_to_hour = 200/60\n",
    "print('200 minutes in hour is:', min_to_hour, 'hours')"
   ]
  },
  {
   "cell_type": "markdown",
   "id": "b0e8755b-a668-4a57-9cc0-dff6bb15d5d8",
   "metadata": {},
   "source": [
    "## Author\n",
    "Solomon Chibuike Ihediohanma"
   ]
  },
  {
   "cell_type": "code",
   "execution_count": null,
   "id": "187fa6d1-85df-482a-ac78-aad039ec52b5",
   "metadata": {},
   "outputs": [],
   "source": []
  }
 ],
 "metadata": {
  "kernelspec": {
   "display_name": "Python 3 (ipykernel)",
   "language": "python",
   "name": "python3"
  },
  "language_info": {
   "codemirror_mode": {
    "name": "ipython",
    "version": 3
   },
   "file_extension": ".py",
   "mimetype": "text/x-python",
   "name": "python",
   "nbconvert_exporter": "python",
   "pygments_lexer": "ipython3",
   "version": "3.11.7"
  }
 },
 "nbformat": 4,
 "nbformat_minor": 5
}
